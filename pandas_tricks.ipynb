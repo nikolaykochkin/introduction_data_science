{
 "cells": [
  {
   "cell_type": "code",
   "execution_count": 5,
   "id": "05e46221-aacf-4992-9ff3-a343eff9a608",
   "metadata": {
    "tags": []
   },
   "outputs": [
    {
     "name": "stdout",
     "output_type": "stream",
     "text": [
      "===df.apply(np.mean)===\n",
      "CPU times: user 5.6 ms, sys: 104 µs, total: 5.71 ms\n",
      "Wall time: 5.5 ms\n",
      "===df.apply('mean')===\n",
      "CPU times: user 4.83 ms, sys: 21 µs, total: 4.85 ms\n",
      "Wall time: 4.86 ms\n",
      "===df.describe().loc['mean']===\n",
      "CPU times: user 57.6 ms, sys: 18.6 ms, total: 76.2 ms\n",
      "Wall time: 76.2 ms\n",
      "===df.mean(axis=0)===\n",
      "CPU times: user 3.21 ms, sys: 8 µs, total: 3.22 ms\n",
      "Wall time: 3.23 ms\n"
     ]
    },
    {
     "data": {
      "text/plain": [
       "0    4999999.5\n",
       "dtype: float64"
      ]
     },
     "execution_count": 5,
     "metadata": {},
     "output_type": "execute_result"
    }
   ],
   "source": [
    "import pandas as pd\n",
    "import numpy as np\n",
    "\n",
    "df = pd.DataFrame(range(10000000))\n",
    "print('===df.apply(np.mean)===')\n",
    "%time df.apply(np.mean)\n",
    "print(\"===df.apply('mean')===\")\n",
    "%time df.apply('mean')\n",
    "print(\"===df.describe().loc['mean']===\")\n",
    "%time df.describe().loc['mean']\n",
    "print('===df.mean(axis=0)===')\n",
    "%time df.mean(axis=0)"
   ]
  },
  {
   "cell_type": "code",
   "execution_count": 8,
   "id": "4a439d89-d3fb-4beb-a8d0-71be7ae8adb1",
   "metadata": {
    "tags": []
   },
   "outputs": [],
   "source": [
    "import datetime"
   ]
  },
  {
   "cell_type": "code",
   "execution_count": 22,
   "id": "729b55f4-b668-40b0-a757-8dc2659be23a",
   "metadata": {
    "tags": []
   },
   "outputs": [
    {
     "data": {
      "text/plain": [
       "{'dt': ['2023-03-01',\n",
       "  '2023-03-02',\n",
       "  '2023-03-03',\n",
       "  '2023-03-04',\n",
       "  '2023-03-05',\n",
       "  '2023-03-06',\n",
       "  '2023-03-07',\n",
       "  '2023-03-08',\n",
       "  '2023-03-09',\n",
       "  '2023-03-10',\n",
       "  '2023-03-11',\n",
       "  '2023-03-12',\n",
       "  '2023-03-13',\n",
       "  '2023-03-14',\n",
       "  '2023-03-15',\n",
       "  '2023-03-16',\n",
       "  '2023-03-17',\n",
       "  '2023-03-18',\n",
       "  '2023-03-19',\n",
       "  '2023-03-20',\n",
       "  '2023-03-21',\n",
       "  '2023-03-22',\n",
       "  '2023-03-23',\n",
       "  '2023-03-24',\n",
       "  '2023-03-25',\n",
       "  '2023-03-26',\n",
       "  '2023-03-27',\n",
       "  '2023-03-28',\n",
       "  '2023-03-29',\n",
       "  '2023-03-30',\n",
       "  '2023-03-31'],\n",
       " 'value': [1,\n",
       "  2,\n",
       "  3,\n",
       "  4,\n",
       "  5,\n",
       "  6,\n",
       "  7,\n",
       "  8,\n",
       "  9,\n",
       "  10,\n",
       "  11,\n",
       "  12,\n",
       "  13,\n",
       "  14,\n",
       "  15,\n",
       "  16,\n",
       "  17,\n",
       "  18,\n",
       "  19,\n",
       "  20,\n",
       "  21,\n",
       "  22,\n",
       "  23,\n",
       "  24,\n",
       "  25,\n",
       "  26,\n",
       "  27,\n",
       "  28,\n",
       "  29,\n",
       "  30,\n",
       "  31]}"
      ]
     },
     "execution_count": 22,
     "metadata": {},
     "output_type": "execute_result"
    }
   ],
   "source": [
    "data = {'dt': [(datetime.date(2023, 3, 1) + datetime.timedelta(days=i)).isoformat() for i in range(31)],\n",
    "       'value': list(range(1, 32))}\n",
    "data"
   ]
  },
  {
   "cell_type": "code",
   "execution_count": 23,
   "id": "35adcafe-beee-4605-9c42-c0008fd4c2b3",
   "metadata": {
    "tags": []
   },
   "outputs": [],
   "source": [
    "wintering = pd.DataFrame(data)"
   ]
  },
  {
   "cell_type": "code",
   "execution_count": 25,
   "id": "f970fbb5-fd6f-4d3c-97e4-b0586b6bd7ff",
   "metadata": {
    "tags": []
   },
   "outputs": [],
   "source": [
    "wintering['dt'] = pd.to_datetime(wintering['dt'])"
   ]
  },
  {
   "cell_type": "code",
   "execution_count": 26,
   "id": "68764395-9f41-4e56-9d1f-5249cacc2ac8",
   "metadata": {
    "tags": []
   },
   "outputs": [
    {
     "data": {
      "text/plain": [
       "dt       datetime64[ns]\n",
       "value             int64\n",
       "dtype: object"
      ]
     },
     "execution_count": 26,
     "metadata": {},
     "output_type": "execute_result"
    }
   ],
   "source": [
    "wintering.dtypes"
   ]
  },
  {
   "cell_type": "code",
   "execution_count": 29,
   "id": "598cccc7-5513-42dc-8096-7b6710df1b71",
   "metadata": {
    "tags": []
   },
   "outputs": [],
   "source": [
    "wintering = wintering.set_index('dt')"
   ]
  },
  {
   "cell_type": "code",
   "execution_count": 35,
   "id": "42acad49-4e4f-4659-acf4-64514b156d71",
   "metadata": {
    "tags": []
   },
   "outputs": [
    {
     "data": {
      "text/plain": [
       "Int64Index([2023, 2023, 2023, 2023, 2023, 2023, 2023, 2023, 2023, 2023, 2023,\n",
       "            2023, 2023, 2023, 2023, 2023, 2023, 2023, 2023, 2023, 2023, 2023,\n",
       "            2023, 2023, 2023, 2023, 2023, 2023, 2023, 2023, 2023],\n",
       "           dtype='int64', name='dt')"
      ]
     },
     "execution_count": 35,
     "metadata": {},
     "output_type": "execute_result"
    }
   ],
   "source": [
    "wintering.index.year"
   ]
  },
  {
   "cell_type": "code",
   "execution_count": null,
   "id": "295fc99a-523c-4d41-a53b-ebf2910ec0ce",
   "metadata": {},
   "outputs": [],
   "source": []
  }
 ],
 "metadata": {
  "kernelspec": {
   "display_name": "Python 3 (ipykernel)",
   "language": "python",
   "name": "python3"
  },
  "language_info": {
   "codemirror_mode": {
    "name": "ipython",
    "version": 3
   },
   "file_extension": ".py",
   "mimetype": "text/x-python",
   "name": "python",
   "nbconvert_exporter": "python",
   "pygments_lexer": "ipython3",
   "version": "3.10.6"
  }
 },
 "nbformat": 4,
 "nbformat_minor": 5
}
